{
  "nbformat": 4,
  "nbformat_minor": 0,
  "metadata": {
    "colab": {
      "provenance": [],
      "include_colab_link": true
    },
    "kernelspec": {
      "name": "python3",
      "display_name": "Python 3"
    },
    "language_info": {
      "name": "python"
    }
  },
  "cells": [
    {
      "cell_type": "markdown",
      "metadata": {
        "id": "view-in-github",
        "colab_type": "text"
      },
      "source": [
        "<a href=\"https://colab.research.google.com/github/move37-labs/nucleobench/blob/main/recipes/colab/pypi_substring_counting.ipynb\" target=\"_parent\"><img src=\"https://colab.research.google.com/assets/colab-badge.svg\" alt=\"Open In Colab\"/></a>"
      ]
    },
    {
      "cell_type": "markdown",
      "source": [
        "Demonstrate the use of `nucleobench` using PyPi."
      ],
      "metadata": {
        "id": "P4JclwOHVGfq"
      }
    },
    {
      "cell_type": "code",
      "execution_count": null,
      "metadata": {
        "id": "r4sdTVadVETN"
      },
      "outputs": [],
      "source": [
        "# `nucleopt` is a minimal package that has nucleobench optimizers.\n",
        "# For the full library, including tasks, install `nucleobench`.\n",
        "!pip install nucleobench"
      ]
    },
    {
      "cell_type": "markdown",
      "source": [
        "Initialize the task."
      ],
      "metadata": {
        "id": "tAUmGlz-Ti67"
      }
    },
    {
      "cell_type": "code",
      "source": [
        "from nucleobench import models\n",
        "# Design for a simple task: count the number of occurances of a particular substring.\n",
        "# See `nucleobench.models.__init__` for a registry of tasks, or add your own.\n",
        "model_obj = models.get_model('substring_count')\n",
        "\n",
        "# Every task has some baseline, default arguments to initialize. We can use\n",
        "# these to demonstrate, or modify them for custom behavior. We do both, to\n",
        "# demonstrate.\n",
        "model_init_args = model_obj.debug_init_args()\n",
        "model_init_args['substring'] = 'ATGTC'\n",
        "model_fn = model_obj(**model_init_args)"
      ],
      "metadata": {
        "id": "Rw-BNvnfTZdQ"
      },
      "execution_count": 2,
      "outputs": []
    },
    {
      "cell_type": "markdown",
      "source": [
        "Initialize the designer."
      ],
      "metadata": {
        "id": "KappY-ZtTgx2"
      }
    },
    {
      "cell_type": "code",
      "source": [
        "from nucleobench import optimizations\n",
        "# Pick a design algorithm that attemps to solve the task. In this case,\n",
        "# maximize the number of substrings.\n",
        "opt_obj = optimizations.get_optimization('adabeam')\n",
        "# Every task has some baseline, default arguments to initialize. We can use\n",
        "# these to demonstrate, or modify them for custom behavior. We do both, to\n",
        "# demonstrate.\n",
        "opt_init_args = opt_obj.debug_init_args()\n",
        "opt_init_args['model_fn'] = model_fn\n",
        "opt_init_args['start_sequence'] = 'A' * 100\n",
        "designer = opt_obj(**opt_init_args)"
      ],
      "metadata": {
        "id": "IfqAd58cTcau"
      },
      "execution_count": 3,
      "outputs": []
    },
    {
      "cell_type": "markdown",
      "source": [
        "Run the designer and show the results."
      ],
      "metadata": {
        "id": "qqbgpWe9TfjB"
      }
    },
    {
      "cell_type": "code",
      "source": [
        "designer.run(n_steps=100)\n",
        "ret = designer.get_samples(1)\n",
        "ret_score = model_fn(ret)\n",
        "print(f'Final score: {ret_score[0]}')\n",
        "print(f'Final sequence: {ret[0]}')"
      ],
      "metadata": {
        "id": "NUFzSoNcTdae",
        "outputId": "fecd586b-d017-4778-8e68-45a7bc63e6d5",
        "colab": {
          "base_uri": "https://localhost:8080/"
        }
      },
      "execution_count": 4,
      "outputs": [
        {
          "output_type": "stream",
          "name": "stdout",
          "text": [
            "Step 99 current scores: [np.float64(498.0), np.float64(496.0), np.float64(495.0), np.float64(494.0), np.float64(493.0), np.float64(493.0), np.float64(492.0), np.float64(491.0), np.float64(491.0), np.float64(491.0)]\n",
            "Final score: -498.0\n",
            "Final sequence: CATGTCTATGTCATGTCATGTCTCTGTCTGTCTCATGTCTGTCTCATGTCATGTCATGTCTATGTCTTGTTATGACATGTCTATGTCATATGTCATTGTC\n"
          ]
        }
      ]
    }
  ]
}