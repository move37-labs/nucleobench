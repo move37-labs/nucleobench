{
  "nbformat": 4,
  "nbformat_minor": 0,
  "metadata": {
    "colab": {
      "provenance": []
    },
    "kernelspec": {
      "name": "python3",
      "display_name": "Python 3"
    },
    "language_info": {
      "name": "python"
    }
  },
  "cells": [
    {
      "cell_type": "markdown",
      "source": [
        "Demonstrate the use of `nucleobench` using PyPi.\n",
        "\n",
        "Task: Count substrings."
      ],
      "metadata": {
        "id": "P4JclwOHVGfq"
      }
    },
    {
      "cell_type": "code",
      "execution_count": null,
      "metadata": {
        "id": "r4sdTVadVETN"
      },
      "outputs": [],
      "source": [
        "!pip install nucleobench"
      ]
    },
    {
      "cell_type": "markdown",
      "source": [
        "Sanity test: use a neural network that counts substrings."
      ],
      "metadata": {
        "id": "F6h_9fO_Hj34"
      }
    },
    {
      "cell_type": "code",
      "source": [
        "VOCAB = ['A', 'C', 'T', 'G']\n",
        "\n",
        "import argparse\n",
        "import torch\n",
        "import torch.nn.functional as F\n",
        "from typing import Optional\n",
        "\n",
        "from nucleobench.common import string_utils\n",
        "\n",
        "from nucleobench.models import model_class as mc\n",
        "\n",
        "class CountSubstringModel(torch.nn.Module):\n",
        "    \"\"\"Count number of substrings, using convs.\"\"\"\n",
        "    def __init__(self, substring: str, vocab: list[str] = VOCAB):\n",
        "        super().__init__()\n",
        "        self.substring = substring\n",
        "        self.vocab = vocab\n",
        "\n",
        "        self.substr_tensor = string_utils.dna2tensor(\n",
        "            substring, vocab_list=self.vocab)\n",
        "        self.substr_tensor = torch.unsqueeze(self.substr_tensor, dim=0)\n",
        "        self.substr_tensor.requires_grad = False\n",
        "\n",
        "\n",
        "    def forward(self, x: torch.Tensor) -> torch.Tensor:\n",
        "        assert x.ndim == 3\n",
        "        assert x.shape[1] == 4, x.shape\n",
        "        out_tensor = F.conv1d(x, self.substr_tensor)\n",
        "        out_tensor = torch.squeeze(out_tensor, 1)\n",
        "        # We square it so it's nonlinear. That is, getting all 3 in one window should be\n",
        "        # better than getting 2 in one window and 1 in another.\n",
        "        out_tensor = torch.square(out_tensor)\n",
        "        out_tensor = torch.sum(out_tensor, dim=1)\n",
        "\n",
        "        # Flip the sign, so lower is better.\n",
        "        out_tensor *= -1\n",
        "\n",
        "        return out_tensor\n",
        "\n",
        "    def inference_on_tensor(self, x: torch.Tensor) -> torch.Tensor:\n",
        "        return self.forward(x)\n",
        "\n",
        "    def __call__(self, seqs: list[str]):\n",
        "        torch_seq = string_utils.dna2tensor_batch(seqs)\n",
        "        result = self.inference_on_tensor(torch_seq)\n",
        "        assert result.ndim == 1, result.shape\n",
        "        return [float(x) for x in result]"
      ],
      "metadata": {
        "id": "agoPRMwmHpkR"
      },
      "execution_count": null,
      "outputs": []
    },
    {
      "cell_type": "code",
      "source": [
        "# Pick an optimization method:\n",
        "# Some examples are 'ledidi', 'directed_evolution', etc.\n",
        "# Full list:\n",
        "# https://github.com/move37-labs/nucleobench/blob/main/nucleobench/optimizations/__init__.py\n",
        "\n",
        "# Params to play with.\n",
        "OPT_NAME = 'directed_evolution'\n",
        "NUM_ROUNDS = 20\n",
        "N_STEPS_PER_ROUND = 5\n",
        "TARGET_SUBSTR = 'AGTCA'\n",
        "START_SEQ = 'A' * 10\n",
        "\n",
        "import numpy as np\n",
        "from nucleobench import optimizations\n",
        "opt_obj = optimizations.get_optimization(OPT_NAME)\n",
        "\n",
        "# Use default initial args, or specify.\n",
        "opt_init_args = opt_obj.debug_init_args()\n",
        "opt_run_args = opt_obj.debug_run_args()\n",
        "if OPT_NAME == 'ledidi':\n",
        "  opt_init_args['lr'] = 1.0\n",
        "  opt_init_args['train_batch_size'] = 64\n",
        "\n",
        "model_fn = CountSubstringModel(substring=TARGET_SUBSTR)\n",
        "del opt_init_args['model_fn']\n",
        "del opt_init_args['seed_sequence']\n",
        "opt = opt_obj(model_fn=model_fn, seed_sequence=START_SEQ, vocab=VOCAB, **opt_init_args)\n",
        "\n",
        "import tqdm\n",
        "import time\n",
        "from matplotlib import pyplot as plt\n",
        "\n",
        "proposals, losses, times = [], [], []\n",
        "start_time = time.time()\n",
        "for i in tqdm.trange(NUM_ROUNDS):\n",
        "  if opt.is_finished():\n",
        "      break\n",
        "\n",
        "  # Take some optimization steps.\n",
        "  opt.run(\n",
        "      n_steps=N_STEPS_PER_ROUND,\n",
        "      **opt_run_args)\n",
        "\n",
        "  # Get some samples and score them.\n",
        "  samples = opt.get_samples(n_samples=1)\n",
        "  scores = model_fn(samples)\n",
        "  proposals.extend(samples)\n",
        "  losses.append(np.mean(scores))\n",
        "  times.append(time.time() - start_time)\n",
        "\n",
        "  # Print results.\n",
        "  print(f'After {time.time() - start_time:.2f}s, fitness {losses[-1]:.2f}: {samples[0]}')\n",
        "plt.plot(times, losses, label=OPT_NAME)\n",
        "plt.xlabel('Time (s)')\n",
        "plt.ylabel('Fitness (lower better)')\n",
        "plt.show()"
      ],
      "metadata": {
        "colab": {
          "base_uri": "https://localhost:8080/",
          "height": 1000
        },
        "id": "358vjAspLUY5",
        "outputId": "bc54c28a-a4c4-4ead-e3b5-6c21a82cb240"
      },
      "execution_count": null,
      "outputs": [
        {
          "output_type": "stream",
          "name": "stdout",
          "text": [
            "Parsed TISM args: None\n"
          ]
        },
        {
          "output_type": "stream",
          "name": "stderr",
          "text": [
            "  0%|          | 0/20 [00:00<?, ?it/s]\n",
            "100%|██████████| 5/5 [00:00<00:00, 648.01it/s]\n"
          ]
        },
        {
          "output_type": "stream",
          "name": "stdout",
          "text": [
            "Best score: -38.0\n",
            "After 0.02s, fitness -38.00: ATGCAACAAA\n"
          ]
        },
        {
          "output_type": "stream",
          "name": "stderr",
          "text": [
            "\n",
            "100%|██████████| 5/5 [00:00<00:00, 709.46it/s]\n"
          ]
        },
        {
          "output_type": "stream",
          "name": "stdout",
          "text": [
            "Score did not improve on iteration: 4\n",
            "Best score: -51.0\n",
            "After 0.03s, fitness -51.00: ATGCATGCAA\n"
          ]
        },
        {
          "output_type": "stream",
          "name": "stderr",
          "text": [
            "\n",
            "100%|██████████| 5/5 [00:00<00:00, 620.18it/s]\n"
          ]
        },
        {
          "output_type": "stream",
          "name": "stdout",
          "text": [
            "Score did not improve on iteration: 1\n",
            "Score did not improve on iteration: 2\n",
            "Score did not improve on iteration: 3\n",
            "Score did not improve on iteration: 4\n",
            "Best score: -51.0\n",
            "After 0.04s, fitness -51.00: ATGCATGCAA\n"
          ]
        },
        {
          "output_type": "stream",
          "name": "stderr",
          "text": [
            "\n",
            "100%|██████████| 5/5 [00:00<00:00, 728.86it/s]\n"
          ]
        },
        {
          "output_type": "stream",
          "name": "stdout",
          "text": [
            "Score did not improve on iteration: 1\n",
            "Score did not improve on iteration: 2\n",
            "Score did not improve on iteration: 3\n",
            "Score did not improve on iteration: 4\n",
            "Best score: -51.0\n",
            "After 0.06s, fitness -51.00: ATGCATGCAA\n"
          ]
        },
        {
          "output_type": "stream",
          "name": "stderr",
          "text": [
            "\n",
            "100%|██████████| 5/5 [00:00<00:00, 671.24it/s]\n"
          ]
        },
        {
          "output_type": "stream",
          "name": "stdout",
          "text": [
            "Score did not improve on iteration: 1\n",
            "Score did not improve on iteration: 2\n",
            "Score did not improve on iteration: 3\n",
            "Score did not improve on iteration: 4\n",
            "Best score: -51.0\n",
            "After 0.07s, fitness -51.00: ATGCATGCAA\n"
          ]
        },
        {
          "output_type": "stream",
          "name": "stderr",
          "text": [
            "\n",
            "100%|██████████| 5/5 [00:00<00:00, 658.10it/s]\n"
          ]
        },
        {
          "output_type": "stream",
          "name": "stdout",
          "text": [
            "Score did not improve on iteration: 1\n",
            "Score did not improve on iteration: 2\n",
            "Score did not improve on iteration: 3\n",
            "Score did not improve on iteration: 4\n",
            "Best score: -51.0\n",
            "After 0.08s, fitness -51.00: ATGCATGCAA\n"
          ]
        },
        {
          "output_type": "stream",
          "name": "stderr",
          "text": [
            "\n",
            "100%|██████████| 5/5 [00:00<00:00, 616.25it/s]\n"
          ]
        },
        {
          "output_type": "stream",
          "name": "stdout",
          "text": [
            "Score did not improve on iteration: 1\n",
            "Score did not improve on iteration: 2\n",
            "Score did not improve on iteration: 3\n",
            "Score did not improve on iteration: 4\n",
            "Best score: -51.0\n",
            "After 0.09s, fitness -51.00: ATGCATGCAA\n"
          ]
        },
        {
          "output_type": "stream",
          "name": "stderr",
          "text": [
            "\n",
            "100%|██████████| 5/5 [00:00<00:00, 565.45it/s]\n",
            " 40%|████      | 8/20 [00:00<00:00, 75.20it/s]"
          ]
        },
        {
          "output_type": "stream",
          "name": "stdout",
          "text": [
            "Score did not improve on iteration: 1\n",
            "Score did not improve on iteration: 2\n",
            "Score did not improve on iteration: 3\n",
            "Score did not improve on iteration: 4\n",
            "Best score: -51.0\n",
            "After 0.11s, fitness -51.00: ATGCATGCAA\n"
          ]
        },
        {
          "output_type": "stream",
          "name": "stderr",
          "text": [
            "\n",
            "100%|██████████| 5/5 [00:00<00:00, 623.35it/s]\n"
          ]
        },
        {
          "output_type": "stream",
          "name": "stdout",
          "text": [
            "Score did not improve on iteration: 1\n",
            "Score did not improve on iteration: 2\n",
            "Score did not improve on iteration: 3\n",
            "Score did not improve on iteration: 4\n",
            "Best score: -51.0\n",
            "After 0.12s, fitness -51.00: ATGCATGCAA\n"
          ]
        },
        {
          "output_type": "stream",
          "name": "stderr",
          "text": [
            "\n",
            "100%|██████████| 5/5 [00:00<00:00, 621.53it/s]\n"
          ]
        },
        {
          "output_type": "stream",
          "name": "stdout",
          "text": [
            "Score did not improve on iteration: 1\n",
            "Score did not improve on iteration: 2\n",
            "Score did not improve on iteration: 3\n",
            "Score did not improve on iteration: 4\n",
            "Best score: -51.0\n",
            "After 0.14s, fitness -51.00: ATGCATGCAA\n"
          ]
        },
        {
          "output_type": "stream",
          "name": "stderr",
          "text": [
            "\n",
            "100%|██████████| 5/5 [00:00<00:00, 577.23it/s]\n"
          ]
        },
        {
          "output_type": "stream",
          "name": "stdout",
          "text": [
            "Score did not improve on iteration: 1\n",
            "Score did not improve on iteration: 2\n",
            "Score did not improve on iteration: 3\n",
            "Score did not improve on iteration: 4\n",
            "Best score: -51.0\n",
            "After 0.15s, fitness -51.00: ATGCATGCAA\n"
          ]
        },
        {
          "output_type": "stream",
          "name": "stderr",
          "text": [
            "\n",
            "100%|██████████| 5/5 [00:00<00:00, 609.19it/s]\n"
          ]
        },
        {
          "output_type": "stream",
          "name": "stdout",
          "text": [
            "Score did not improve on iteration: 1\n",
            "Score did not improve on iteration: 2\n",
            "Score did not improve on iteration: 3\n",
            "Score did not improve on iteration: 4\n",
            "Best score: -51.0\n",
            "After 0.16s, fitness -51.00: ATGCATGCAA\n"
          ]
        },
        {
          "output_type": "stream",
          "name": "stderr",
          "text": [
            "\n",
            "100%|██████████| 5/5 [00:00<00:00, 571.12it/s]\n"
          ]
        },
        {
          "output_type": "stream",
          "name": "stdout",
          "text": [
            "Score did not improve on iteration: 1\n",
            "Score did not improve on iteration: 2\n",
            "Score did not improve on iteration: 3\n",
            "Score did not improve on iteration: 4\n",
            "Best score: -51.0\n",
            "After 0.18s, fitness -51.00: ATGCATGCAA\n"
          ]
        },
        {
          "output_type": "stream",
          "name": "stderr",
          "text": [
            "\n",
            "100%|██████████| 5/5 [00:00<00:00, 580.33it/s]\n"
          ]
        },
        {
          "output_type": "stream",
          "name": "stdout",
          "text": [
            "Score did not improve on iteration: 1\n",
            "Score did not improve on iteration: 2\n",
            "Score did not improve on iteration: 3\n",
            "Score did not improve on iteration: 4\n",
            "Best score: -51.0\n",
            "After 0.19s, fitness -51.00: ATGCATGCAA\n"
          ]
        },
        {
          "output_type": "stream",
          "name": "stderr",
          "text": [
            "\n",
            "  0%|          | 0/5 [00:00<?, ?it/s]\u001b[A"
          ]
        },
        {
          "output_type": "stream",
          "name": "stdout",
          "text": [
            "Score did not improve on iteration: 1\n"
          ]
        },
        {
          "output_type": "stream",
          "name": "stderr",
          "text": [
            "\r100%|██████████| 5/5 [00:00<00:00, 495.89it/s]\n"
          ]
        },
        {
          "output_type": "stream",
          "name": "stdout",
          "text": [
            "Score did not improve on iteration: 2\n",
            "Score did not improve on iteration: 3\n",
            "Score did not improve on iteration: 4\n",
            "Best score: -51.0\n",
            "After 0.21s, fitness -51.00: ATGCATGCAA\n"
          ]
        },
        {
          "output_type": "stream",
          "name": "stderr",
          "text": [
            "\n",
            "  0%|          | 0/5 [00:00<?, ?it/s]\u001b[A"
          ]
        },
        {
          "output_type": "stream",
          "name": "stdout",
          "text": [
            "Score did not improve on iteration: 1\n",
            "Score did not improve on iteration: 2\n"
          ]
        },
        {
          "output_type": "stream",
          "name": "stderr",
          "text": [
            "100%|██████████| 5/5 [00:00<00:00, 474.36it/s]\n",
            " 80%|████████  | 16/20 [00:00<00:00, 71.93it/s]"
          ]
        },
        {
          "output_type": "stream",
          "name": "stdout",
          "text": [
            "Score did not improve on iteration: 3\n",
            "Score did not improve on iteration: 4\n",
            "Best score: -51.0\n",
            "After 0.22s, fitness -51.00: ATGCATGCAA\n"
          ]
        },
        {
          "output_type": "stream",
          "name": "stderr",
          "text": [
            "\n",
            "100%|██████████| 5/5 [00:00<00:00, 680.12it/s]"
          ]
        },
        {
          "output_type": "stream",
          "name": "stdout",
          "text": [
            "Score did not improve on iteration: 1\n",
            "Score did not improve on iteration: 2\n",
            "Score did not improve on iteration: 3\n",
            "Score did not improve on iteration: 4\n",
            "Best score: -51.0\n"
          ]
        },
        {
          "output_type": "stream",
          "name": "stderr",
          "text": [
            "\n"
          ]
        },
        {
          "output_type": "stream",
          "name": "stdout",
          "text": [
            "After 0.24s, fitness -51.00: ATGCATGCAA\n"
          ]
        },
        {
          "output_type": "stream",
          "name": "stderr",
          "text": [
            "\n",
            "100%|██████████| 5/5 [00:00<00:00, 495.13it/s]"
          ]
        },
        {
          "output_type": "stream",
          "name": "stdout",
          "text": [
            "Score did not improve on iteration: 1\n",
            "Score did not improve on iteration: 2\n",
            "Score did not improve on iteration: 3\n",
            "Score did not improve on iteration: 4\n"
          ]
        },
        {
          "output_type": "stream",
          "name": "stderr",
          "text": [
            "\n"
          ]
        },
        {
          "output_type": "stream",
          "name": "stdout",
          "text": [
            "Best score: -51.0\n",
            "After 0.25s, fitness -51.00: ATGCATGCAA\n"
          ]
        },
        {
          "output_type": "stream",
          "name": "stderr",
          "text": [
            "\n",
            "  0%|          | 0/5 [00:00<?, ?it/s]\u001b[A"
          ]
        },
        {
          "output_type": "stream",
          "name": "stdout",
          "text": [
            "Score did not improve on iteration: 1\n"
          ]
        },
        {
          "output_type": "stream",
          "name": "stderr",
          "text": [
            "\r100%|██████████| 5/5 [00:00<00:00, 353.75it/s]\n"
          ]
        },
        {
          "output_type": "stream",
          "name": "stdout",
          "text": [
            "Score did not improve on iteration: 2\n",
            "Score did not improve on iteration: 3\n",
            "Score did not improve on iteration: 4\n",
            "Best score: -51.0\n",
            "After 0.27s, fitness -51.00: ATGCATGCAA\n"
          ]
        },
        {
          "output_type": "stream",
          "name": "stderr",
          "text": [
            "\n",
            "  0%|          | 0/5 [00:00<?, ?it/s]\u001b[A"
          ]
        },
        {
          "output_type": "stream",
          "name": "stdout",
          "text": [
            "Score did not improve on iteration: 1\n",
            "Score did not improve on iteration: 2\n",
            "Score did not improve on iteration: 3\n",
            "Score did not improve on iteration: 4\n"
          ]
        },
        {
          "output_type": "stream",
          "name": "stderr",
          "text": [
            "100%|██████████| 5/5 [00:00<00:00, 360.32it/s]\n",
            "100%|██████████| 20/20 [00:00<00:00, 69.19it/s]\n"
          ]
        },
        {
          "output_type": "stream",
          "name": "stdout",
          "text": [
            "Best score: -51.0\n",
            "After 0.29s, fitness -51.00: ATGCATGCAA\n"
          ]
        },
        {
          "output_type": "display_data",
          "data": {
            "text/plain": [
              "<Figure size 640x480 with 1 Axes>"
            ],
            "image/png": "[encoded data removed]"
          },
          "metadata": {}
        }
      ]
    }
  ]
}